{
 "cells": [
  {
   "cell_type": "code",
   "execution_count": 2,
   "metadata": {},
   "outputs": [],
   "source": [
    "from sklearn.ensemble import RandomForestClassifier\n",
    "import pandas as pd\n",
    "import numpy as np\n",
    "from sklearn.model_selection import train_test_split\n",
    "from sklearn.metrics import accuracy_score, roc_auc_score\n",
    "from sklearn.metrics import classification_report"
   ]
  },
  {
   "cell_type": "code",
   "execution_count": 7,
   "metadata": {},
   "outputs": [],
   "source": [
    "data = pd.read_csv('data.csv')"
   ]
  },
  {
   "cell_type": "code",
   "execution_count": 8,
   "metadata": {},
   "outputs": [
    {
     "name": "stdout",
     "output_type": "stream",
     "text": [
      "<class 'pandas.core.frame.DataFrame'>\n",
      "RangeIndex: 1350 entries, 0 to 1349\n",
      "Data columns (total 12 columns):\n",
      " #   Column                                Non-Null Count  Dtype  \n",
      "---  ------                                --------------  -----  \n",
      " 0   Id                                    1350 non-null   int64  \n",
      " 1   SeriousDlqin2yrs                      1350 non-null   int64  \n",
      " 2   RevolvingUtilizationOfUnsecuredLines  1350 non-null   float64\n",
      " 3   age                                   1350 non-null   int64  \n",
      " 4   NumberOfTime30-59DaysPastDueNotWorse  1350 non-null   int64  \n",
      " 5   DebtRatio                             1350 non-null   float64\n",
      " 6   MonthlyIncome                         1094 non-null   float64\n",
      " 7   NumberOfOpenCreditLinesAndLoans       1350 non-null   int64  \n",
      " 8   NumberOfTimes90DaysLate               1350 non-null   int64  \n",
      " 9   NumberRealEstateLoansOrLines          1350 non-null   int64  \n",
      " 10  NumberOfTime60-89DaysPastDueNotWorse  1350 non-null   int64  \n",
      " 11  NumberOfDependents                    1307 non-null   float64\n",
      "dtypes: float64(4), int64(8)\n",
      "memory usage: 126.7 KB\n"
     ]
    }
   ],
   "source": [
    "data.info()"
   ]
  },
  {
   "cell_type": "code",
   "execution_count": 9,
   "metadata": {},
   "outputs": [],
   "source": [
    "data.fillna(data.mean(), inplace=True)"
   ]
  },
  {
   "cell_type": "code",
   "execution_count": 10,
   "metadata": {},
   "outputs": [],
   "source": [
    "X = data.copy()\n",
    "X.drop('SeriousDlqin2yrs', axis=1, inplace=True)\n",
    "Y = data['SeriousDlqin2yrs']"
   ]
  },
  {
   "cell_type": "code",
   "execution_count": 11,
   "metadata": {},
   "outputs": [
    {
     "name": "stdout",
     "output_type": "stream",
     "text": [
      "<class 'pandas.core.frame.DataFrame'>\n",
      "RangeIndex: 1350 entries, 0 to 1349\n",
      "Data columns (total 11 columns):\n",
      " #   Column                                Non-Null Count  Dtype  \n",
      "---  ------                                --------------  -----  \n",
      " 0   Id                                    1350 non-null   int64  \n",
      " 1   RevolvingUtilizationOfUnsecuredLines  1350 non-null   float64\n",
      " 2   age                                   1350 non-null   int64  \n",
      " 3   NumberOfTime30-59DaysPastDueNotWorse  1350 non-null   int64  \n",
      " 4   DebtRatio                             1350 non-null   float64\n",
      " 5   MonthlyIncome                         1350 non-null   float64\n",
      " 6   NumberOfOpenCreditLinesAndLoans       1350 non-null   int64  \n",
      " 7   NumberOfTimes90DaysLate               1350 non-null   int64  \n",
      " 8   NumberRealEstateLoansOrLines          1350 non-null   int64  \n",
      " 9   NumberOfTime60-89DaysPastDueNotWorse  1350 non-null   int64  \n",
      " 10  NumberOfDependents                    1350 non-null   float64\n",
      "dtypes: float64(4), int64(7)\n",
      "memory usage: 116.1 KB\n"
     ]
    }
   ],
   "source": [
    "X.info()"
   ]
  },
  {
   "cell_type": "code",
   "execution_count": 12,
   "metadata": {},
   "outputs": [],
   "source": [
    "for i in X.columns:\n",
    "    max_val = max(X[i])\n",
    "    X[i] = X[i] / max_val"
   ]
  },
  {
   "cell_type": "code",
   "execution_count": 13,
   "metadata": {},
   "outputs": [],
   "source": [
    "X_train, X_test, y_train, y_test = train_test_split(X, Y, test_size=0.3, random_state=20)"
   ]
  },
  {
   "cell_type": "code",
   "execution_count": 14,
   "metadata": {},
   "outputs": [
    {
     "data": {
      "text/plain": [
       "RandomForestClassifier(class_weight='balanced_subsample', max_depth=18,\n",
       "                       n_estimators=500, n_jobs=-1)"
      ]
     },
     "execution_count": 14,
     "metadata": {},
     "output_type": "execute_result"
    }
   ],
   "source": [
    "alg = RandomForestClassifier(max_depth=18, n_estimators=500, n_jobs=-1, class_weight='balanced_subsample')\n",
    "alg.fit(X_train, y_train)"
   ]
  },
  {
   "cell_type": "code",
   "execution_count": 16,
   "metadata": {},
   "outputs": [],
   "source": [
    "pred = alg.predict_proba(X_test)\n",
    "predictionClass = np.array([1 if pred[i][1] > 0.15 else 0 for i in range(pred.shape[0])])"
   ]
  },
  {
   "cell_type": "code",
   "execution_count": 19,
   "metadata": {},
   "outputs": [
    {
     "data": {
      "text/plain": [
       "0.891358024691358"
      ]
     },
     "execution_count": 19,
     "metadata": {},
     "output_type": "execute_result"
    }
   ],
   "source": [
    "accuracy_score(y_test, predictionClass)"
   ]
  },
  {
   "cell_type": "code",
   "execution_count": 20,
   "metadata": {},
   "outputs": [
    {
     "name": "stdout",
     "output_type": "stream",
     "text": [
      "              precision    recall  f1-score   support\n",
      "\n",
      "           0       0.96      0.92      0.94       381\n",
      "           1       0.25      0.42      0.31        24\n",
      "\n",
      "    accuracy                           0.89       405\n",
      "   macro avg       0.61      0.67      0.63       405\n",
      "weighted avg       0.92      0.89      0.90       405\n",
      "\n"
     ]
    }
   ],
   "source": [
    "print(classification_report(y_test, predictionClass))"
   ]
  }
 ],
 "metadata": {
  "kernelspec": {
   "display_name": "Python 3",
   "language": "python",
   "name": "python3"
  },
  "language_info": {
   "codemirror_mode": {
    "name": "ipython",
    "version": 3
   },
   "file_extension": ".py",
   "mimetype": "text/x-python",
   "name": "python",
   "nbconvert_exporter": "python",
   "pygments_lexer": "ipython3",
   "version": "3.8.5"
  }
 },
 "nbformat": 4,
 "nbformat_minor": 4
}
